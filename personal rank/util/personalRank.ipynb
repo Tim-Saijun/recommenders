{
 "cells": [
  {
   "cell_type": "code",
   "execution_count": 1,
   "metadata": {
    "pycharm": {
     "name": "#%%\n"
    }
   },
   "outputs": [],
   "source": [
    "#-*-coding:utf8-*-\n",
    "\n",
    "from __future__ import division\n",
    "import os\n",
    "import sys\n",
    "import numpy as np\n",
    "import pandas as pd\n",
    "import operator"
   ]
  },
  {
   "cell_type": "markdown",
   "metadata": {
    "pycharm": {
     "name": "#%% md\n"
    }
   },
   "source": [
    "### 通过movies.csv获取电影信息"
   ]
  },
  {
   "cell_type": "code",
   "execution_count": 2,
   "metadata": {
    "pycharm": {
     "name": "#%%\n"
    }
   },
   "outputs": [],
   "source": [
    "def get_item_info(input_file):\n",
    "    if not os.path.exists(input_file):\n",
    "        return {}\n",
    "    item_info={}\n",
    "    linenum=0\n",
    "    fp = open(input_file,encoding='UTF-8')\n",
    "    for line in fp:\n",
    "        if linenum == 0:\n",
    "            linenum += 1\n",
    "            continue\n",
    "        item = line.strip().split(',')\n",
    "        if len(item)<3:\n",
    "            continue\n",
    "        elif len(item) == 3:\n",
    "            itemid,title,genre = item[0],item[1],item[2]\n",
    "        elif len(item)>3:\n",
    "            itemid = item[0]\n",
    "            genre = item[-1]\n",
    "            title = ','.join(item[1:-1])\n",
    "        item_info[itemid]=[title,genre]\n",
    "    fp.closed\n",
    "    return item_info"
   ]
  },
  {
   "cell_type": "markdown",
   "metadata": {
    "pycharm": {
     "name": "#%% md\n"
    }
   },
   "source": [
    "### 图算法的数据格式"
   ]
  },
  {
   "cell_type": "code",
   "execution_count": 3,
   "metadata": {
    "pycharm": {
     "name": "#%%\n"
    }
   },
   "outputs": [],
   "source": [
    "def get_graph_from_data(input_file):\n",
    "    \"\"\"\n",
    "    Args:\n",
    "        input_file:user item rating file\n",
    "    Return:\n",
    "        a dict:{User A:{itemb:1,itemc:1},itemb:{UserA:1}}\n",
    "    \"\"\"\n",
    "    if not os.path.exists(input_file):\n",
    "        return {}   \n",
    "    graph={}\n",
    "    linenum =0\n",
    "    score_thr=4.0\n",
    "    fp = open(input_file)\n",
    "    for line in fp:\n",
    "        if linenum ==0:\n",
    "            linenum +=1\n",
    "            continue\n",
    "        item = line.strip().split(\",\")\n",
    "        if len(item)<3:\n",
    "            continue\n",
    "        userid,itemid,rating =item[0],\"item_\"+item[1],item[2]\n",
    "        if float(rating)<score_thr:\n",
    "            continue\n",
    "        if userid not in graph:\n",
    "            graph[userid] ={}\n",
    "        graph[userid][itemid]=1\n",
    "        if itemid not in graph:\n",
    "            graph[itemid]={}\n",
    "        graph[itemid][userid] = 1\n",
    "    fp.close()\n",
    "    return graph"
   ]
  },
  {
   "cell_type": "code",
   "execution_count": 4,
   "metadata": {
    "pycharm": {
     "name": "#%%\n"
    }
   },
   "outputs": [],
   "source": [
    "graph=get_graph_from_data(\"../data/ratings15000.csv\")\n",
    "# graph"
   ]
  },
  {
   "cell_type": "code",
   "execution_count": 5,
   "metadata": {
    "pycharm": {
     "name": "#%%\n"
    }
   },
   "outputs": [],
   "source": [
    "# tmp_rank ={point:0 for point in graph}\n",
    "# tmp_rank\n",
    "# for out_point ,out_dict in graph.items():\n",
    "#     print(\"--------------------\")\n",
    "#     for inner_point,value in graph[out_point].items():\n",
    "#         print(tmp_rank[out_point])\n",
    "        "
   ]
  },
  {
   "cell_type": "markdown",
   "metadata": {
    "pycharm": {
     "name": "#%% md\n"
    }
   },
   "source": [
    "### 将personalRank的算法模型"
   ]
  },
  {
   "cell_type": "code",
   "execution_count": 6,
   "metadata": {
    "pycharm": {
     "name": "#%%\n"
    }
   },
   "outputs": [],
   "source": [
    "def personal_rank(graph,root,alpha,iter_num,recom_num=10):\n",
    "    \"\"\"\n",
    "    Args:\n",
    "        graph:user item graph\n",
    "        root:指定要推荐的用户\n",
    "        alpha：以alpha的概率选择随机游走，以1-alpha的概率回到起点\n",
    "        item_num:迭代轮次\n",
    "        recom_num=10:指定迭代轮次\n",
    "    Return:\n",
    "        a dict :    key :itemid  value: pr\n",
    "    \"\"\"\n",
    "    rank = {}\n",
    "    rank = {point:0 for point in graph}#将除了root顶点以外，其他所有顶点初始化为0,一箭双雕，自动去重\n",
    "    rank[root] = 1#root顶点初始化成1\n",
    "    recom_result={}#输出的数据结构\n",
    "    for iter_index in range(iter_num):\n",
    "        tmp_rank = {}\n",
    "        tmp_rank = {point:0 for point in graph}#该迭代轮次下其余顶点到root顶点的pr值\n",
    "        #如果该顶点不是root顶点,那么所有连接该顶点的顶点的pr值以1/N的概率贡献给这个顶点\n",
    "        for out_point,out_dict in graph.items():\n",
    "            for inner_point,value in graph[out_point].items():\n",
    "#                 如果顶点不是root顶点（公式的上半部分）\n",
    "#              len(out_dict)是出度\n",
    "                tmp_rank[inner_point] +=round(alpha*rank[out_point]/len(out_dict),4)\n",
    "#                公式的下半部分\n",
    "                if inner_point == root:\n",
    "                    tmp_rank[inner_point] +=round(1-alpha,4)\n",
    "#         迭代充分了提前结束迭代\n",
    "        if tmp_rank ==rank:\n",
    "            print(\"out\"+str(iter_index))#查看是否提前结束迭代\n",
    "            break\n",
    "#         如果没有完全迭代充分，就要赋值给rank这个数据结构\n",
    "        rank = tmp_rank\n",
    "    \n",
    "    right_num = 0#定义一个计数器\n",
    "    \n",
    "#     将rank这个结构根据pr值的得分进行排序，并过滤掉User顶点和root顶点已经行为过的item \n",
    "    for zuhe in sorted(rank.items(),key=operator.itemgetter(1),reverse=True):\n",
    "        point,pr_score =zuhe[0],zuhe[1]\n",
    "        if len(point.split('_'))<2:#如果不是item顶点就过滤掉\n",
    "            continue\n",
    "        if point in graph[root]:#如果被root顶点行为过，同样过滤\n",
    "            continue\n",
    "        recom_result[point] = pr_score #结果装载进数据集\n",
    "        right_num += 1\n",
    "        if right_num >recom_num:\n",
    "            break#迭代轮次结束\n",
    "    return recom_result"
   ]
  },
  {
   "cell_type": "code",
   "execution_count": 7,
   "metadata": {
    "pycharm": {
     "name": "#%%\n"
    }
   },
   "outputs": [],
   "source": [
    "def get_one_user_recom():\n",
    "    \"\"\"\n",
    "    give one fix user recom result\n",
    "    \"\"\"\n",
    "    user =\"112\"# A\n",
    "    alpha = 0.8      \n",
    "#     graph = get_graph_from_data(\"../data/log.txt\")\n",
    "    graph =get_graph_from_data(\"../data/ratings15000.csv\")\n",
    "    iter_num = 100  \n",
    "    recom_result=personal_rank(graph,user,alpha,iter_num)\n",
    "    item_info = get_item_info(\"../data/movies.csv\")\n",
    "#     将用户感兴趣的物品打印出来分析结果\n",
    "    for itemid in graph[user]:\n",
    "        pure_itemid = itemid.split(\"_\")[1]\n",
    "        print(item_info[pure_itemid])\n",
    "    print(\"result------------\")    \n",
    "    for itemid in recom_result:\n",
    "        pure_itemid = itemid.split(\"_\")[1]\n",
    "        print(item_info[pure_itemid])\n",
    "        print(recom_result[itemid])    "
   ]
  },
  {
   "cell_type": "code",
   "execution_count": 9,
   "outputs": [
    {
     "name": "stdout",
     "output_type": "stream",
     "text": [
      "out35\n",
      "['Dead Man Walking (1995)', 'Crime|Drama']\n",
      "['Ed Wood (1994)', 'Comedy|Drama']\n",
      "['\"Shawshank Redemption, The (1994)\"', 'Crime|Drama']\n",
      "['Strawberry and Chocolate (Fresa y chocolate) (1993)', 'Drama']\n",
      "['\"Fugitive, The (1993)\"', 'Thriller']\n",
      "['In the Name of the Father (1993)', 'Drama']\n",
      "['\"Piano, The (1993)\"', 'Drama|Romance']\n",
      "[\"Schindler's List (1993)\", 'Drama|War']\n",
      "['Fargo (1996)', 'Comedy|Crime|Drama|Thriller']\n",
      "['Dr. Strangelove or: How I Learned to Stop Worrying and Love the Bomb (1964)', 'Comedy|War']\n",
      "['Rear Window (1954)', 'Mystery|Thriller']\n",
      "['Monty Python and the Holy Grail (1975)', 'Adventure|Comedy|Fantasy']\n",
      "['\"Princess Bride, The (1987)\"', 'Action|Adventure|Comedy|Fantasy|Romance']\n",
      "['12 Angry Men (1957)', 'Drama']\n",
      "['Psycho (1960)', 'Crime|Horror']\n",
      "['Amadeus (1984)', 'Drama']\n",
      "['Cool Hand Luke (1967)', 'Drama']\n",
      "['Sling Blade (1996)', 'Drama']\n",
      "['Waiting for Guffman (1996)', 'Comedy']\n",
      "['\"Truman Show, The (1998)\"', 'Comedy|Drama|Sci-Fi']\n",
      "['Good Will Hunting (1997)', 'Drama|Romance']\n",
      "['High Art (1998)', 'Drama|Romance']\n",
      "[\"There's Something About Mary (1998)\", 'Comedy|Romance']\n",
      "['\"Breakfast Club, The (1985)\"', 'Comedy|Drama']\n",
      "['Life Is Beautiful (La Vita è bella) (1997)', 'Comedy|Drama|Romance|War']\n",
      "['Shakespeare in Love (1998)', 'Comedy|Drama|Romance']\n",
      "['Office Space (1999)', 'Comedy|Crime']\n",
      "['Run Lola Run (Lola rennt) (1998)', 'Action|Crime']\n",
      "['Being John Malkovich (1999)', 'Comedy|Drama|Fantasy']\n",
      "['Magnolia (1999)', 'Drama']\n",
      "['Misery (1990)', 'Drama|Horror|Thriller']\n",
      "['Best in Show (2000)', 'Comedy']\n",
      "['Requiem for a Dream (2000)', 'Drama']\n",
      "['\"Crouching Tiger, Hidden Dragon (Wo hu cang long) (2000)\"', 'Action|Drama|Romance']\n",
      "['\"O Brother, Where Art Thou? (2000)\"', 'Adventure|Comedy|Crime']\n",
      "['Memento (2000)', 'Mystery|Thriller']\n",
      "['\"Others, The (2001)\"', 'Drama|Horror|Mystery|Thriller']\n",
      "['Donnie Darko (2001)', 'Drama|Mystery|Sci-Fi|Thriller']\n",
      "['\"Amelie (Fabuleux destin d\\'Amélie Poulain, Le) (2001)\"', 'Comedy|Romance']\n",
      "['Adaptation (2002)', 'Comedy|Drama|Romance']\n",
      "['Monty Python Live at the Hollywood Bowl (1982)', 'Comedy']\n",
      "['\"Secret Policeman\\'s Other Ball, The (1982)\"', 'Comedy|Documentary|Musical']\n",
      "['Whale Rider (2002)', 'Drama']\n",
      "['\"Railway Children, The (1970)\"', 'Children|Drama']\n",
      "[\"Monty Python's The Meaning of Life (1983)\", 'Comedy']\n",
      "['Mystic River (2003)', 'Crime|Drama|Mystery']\n",
      "['21 Grams (2003)', 'Crime|Drama|Mystery|Romance|Thriller']\n",
      "['\"Barbarian Invasions, The (Les invasions barbares) (2003)\"', 'Comedy|Crime|Drama|Mystery|Romance']\n",
      "['\"Lord of the Rings: The Return of the King, The (2003)\"', 'Action|Adventure|Drama|Fantasy']\n",
      "['Eternal Sunshine of the Spotless Mind (2004)', 'Drama|Romance|Sci-Fi']\n",
      "['Kill Bill: Vol. 2 (2004)', 'Action|Drama|Thriller']\n",
      "['Super Size Me (2004)', 'Comedy|Documentary|Drama']\n",
      "['Manufacturing Consent: Noam Chomsky and the Media (1992)', 'Documentary|War']\n",
      "['Spider-Man 2 (2004)', 'Action|Adventure|Sci-Fi|IMAX']\n",
      "['I Heart Huckabees (2004)', 'Comedy']\n",
      "['House of Flying Daggers (Shi mian mai fu) (2004)', 'Action|Drama|Romance']\n",
      "result------------\n",
      "['Pulp Fiction (1994)', 'Comedy|Crime|Drama|Thriller']\n",
      "0.10330000000000002\n",
      "['Forrest Gump (1994)', 'Comedy|Drama|Romance|War']\n",
      "0.09369999999999999\n",
      "['\"Silence of the Lambs, The (1991)\"', 'Crime|Horror|Thriller']\n",
      "0.07919999999999999\n",
      "['Star Wars: Episode IV - A New Hope (1977)', 'Action|Adventure|Sci-Fi']\n",
      "0.0646\n",
      "['\"Usual Suspects, The (1995)\"', 'Crime|Mystery|Thriller']\n",
      "0.06180000000000001\n",
      "['American Beauty (1999)', 'Comedy|Drama']\n",
      "0.0618\n",
      "['\"Godfather, The (1972)\"', 'Crime|Drama']\n",
      "0.0596\n",
      "['Seven (a.k.a. Se7en) (1995)', 'Mystery|Thriller']\n",
      "0.0575\n",
      "['Raiders of the Lost Ark (Indiana Jones and the Raiders of the Lost Ark) (1981)', 'Action|Adventure']\n",
      "0.056400000000000006\n",
      "['\"Sixth Sense, The (1999)\"', 'Drama|Horror|Mystery']\n",
      "0.055799999999999995\n",
      "['Fight Club (1999)', 'Action|Crime|Drama|Thriller']\n",
      "0.05519999999999999\n"
     ]
    }
   ],
   "source": [
    "get_one_user_recom()"
   ],
   "metadata": {
    "collapsed": false,
    "pycharm": {
     "name": "#%%\n"
    }
   }
  },
  {
   "cell_type": "code",
   "execution_count": null,
   "outputs": [],
   "source": [],
   "metadata": {
    "collapsed": false,
    "pycharm": {
     "name": "#%%\n"
    }
   }
  }
 ],
 "metadata": {
  "kernelspec": {
   "display_name": "Python 3",
   "language": "python",
   "name": "python3"
  },
  "language_info": {
   "codemirror_mode": {
    "name": "ipython",
    "version": 3
   },
   "file_extension": ".py",
   "mimetype": "text/x-python",
   "name": "python",
   "nbconvert_exporter": "python",
   "pygments_lexer": "ipython3",
   "version": "3.6.8"
  }
 },
 "nbformat": 4,
 "nbformat_minor": 2
}